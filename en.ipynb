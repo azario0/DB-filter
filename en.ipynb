{
 "cells": [
  {
   "cell_type": "markdown",
   "metadata": {},
   "source": [
    "# Link to the dataset \n",
    "https://www.kaggle.com/datasets/lama122/saudi-arabia-real-estate-aqar"
   ]
  },
  {
   "cell_type": "markdown",
   "metadata": {},
   "source": [
    "# The import "
   ]
  },
  {
   "cell_type": "code",
   "execution_count": 1,
   "metadata": {},
   "outputs": [],
   "source": [
    "import pandas as pd"
   ]
  },
  {
   "cell_type": "markdown",
   "metadata": {},
   "source": [
    "# Lecture"
   ]
  },
  {
   "cell_type": "code",
   "execution_count": 2,
   "metadata": {},
   "outputs": [],
   "source": [
    "df = pd.read_csv('SA_Aqar.csv')"
   ]
  },
  {
   "cell_type": "markdown",
   "metadata": {},
   "source": [
    "# Consultation"
   ]
  },
  {
   "cell_type": "code",
   "execution_count": 3,
   "metadata": {},
   "outputs": [
    {
     "data": {
      "text/html": [
       "<div>\n",
       "<style scoped>\n",
       "    .dataframe tbody tr th:only-of-type {\n",
       "        vertical-align: middle;\n",
       "    }\n",
       "\n",
       "    .dataframe tbody tr th {\n",
       "        vertical-align: top;\n",
       "    }\n",
       "\n",
       "    .dataframe thead th {\n",
       "        text-align: right;\n",
       "    }\n",
       "</style>\n",
       "<table border=\"1\" class=\"dataframe\">\n",
       "  <thead>\n",
       "    <tr style=\"text-align: right;\">\n",
       "      <th></th>\n",
       "      <th>city</th>\n",
       "      <th>district</th>\n",
       "      <th>front</th>\n",
       "      <th>size</th>\n",
       "      <th>property_age</th>\n",
       "      <th>bedrooms</th>\n",
       "      <th>bathrooms</th>\n",
       "      <th>livingrooms</th>\n",
       "      <th>kitchen</th>\n",
       "      <th>garage</th>\n",
       "      <th>...</th>\n",
       "      <th>roof</th>\n",
       "      <th>pool</th>\n",
       "      <th>frontyard</th>\n",
       "      <th>basement</th>\n",
       "      <th>duplex</th>\n",
       "      <th>stairs</th>\n",
       "      <th>elevator</th>\n",
       "      <th>fireplace</th>\n",
       "      <th>price</th>\n",
       "      <th>details</th>\n",
       "    </tr>\n",
       "  </thead>\n",
       "  <tbody>\n",
       "    <tr>\n",
       "      <th>0</th>\n",
       "      <td>الرياض</td>\n",
       "      <td>حي العارض</td>\n",
       "      <td>شمال</td>\n",
       "      <td>250</td>\n",
       "      <td>0</td>\n",
       "      <td>5</td>\n",
       "      <td>5</td>\n",
       "      <td>1</td>\n",
       "      <td>1</td>\n",
       "      <td>1</td>\n",
       "      <td>...</td>\n",
       "      <td>0</td>\n",
       "      <td>0</td>\n",
       "      <td>1</td>\n",
       "      <td>0</td>\n",
       "      <td>1</td>\n",
       "      <td>1</td>\n",
       "      <td>0</td>\n",
       "      <td>0</td>\n",
       "      <td>80000</td>\n",
       "      <td>للايجار فيلا دبلكس في موقع ممتاز جدا بالقرب من...</td>\n",
       "    </tr>\n",
       "    <tr>\n",
       "      <th>1</th>\n",
       "      <td>الرياض</td>\n",
       "      <td>حي القادسية</td>\n",
       "      <td>جنوب</td>\n",
       "      <td>370</td>\n",
       "      <td>0</td>\n",
       "      <td>4</td>\n",
       "      <td>5</td>\n",
       "      <td>2</td>\n",
       "      <td>1</td>\n",
       "      <td>1</td>\n",
       "      <td>...</td>\n",
       "      <td>0</td>\n",
       "      <td>0</td>\n",
       "      <td>1</td>\n",
       "      <td>0</td>\n",
       "      <td>0</td>\n",
       "      <td>1</td>\n",
       "      <td>0</td>\n",
       "      <td>0</td>\n",
       "      <td>60000</td>\n",
       "      <td>*** فيلا درج مع الصالة جديدة ***\\n\\nعبارة عن م...</td>\n",
       "    </tr>\n",
       "  </tbody>\n",
       "</table>\n",
       "<p>2 rows × 24 columns</p>\n",
       "</div>"
      ],
      "text/plain": [
       "      city         district front  size  property_age  bedrooms  bathrooms  \\\n",
       "0   الرياض       حي العارض   شمال   250             0         5          5   \n",
       "1   الرياض     حي القادسية   جنوب   370             0         4          5   \n",
       "\n",
       "   livingrooms  kitchen  garage  ...  roof  pool  frontyard  basement  duplex  \\\n",
       "0            1        1       1  ...     0     0          1         0       1   \n",
       "1            2        1       1  ...     0     0          1         0       0   \n",
       "\n",
       "   stairs  elevator  fireplace  price  \\\n",
       "0       1         0          0  80000   \n",
       "1       1         0          0  60000   \n",
       "\n",
       "                                             details  \n",
       "0  للايجار فيلا دبلكس في موقع ممتاز جدا بالقرب من...  \n",
       "1  *** فيلا درج مع الصالة جديدة ***\\n\\nعبارة عن م...  \n",
       "\n",
       "[2 rows x 24 columns]"
      ]
     },
     "execution_count": 3,
     "metadata": {},
     "output_type": "execute_result"
    }
   ],
   "source": [
    "df.head(2)"
   ]
  },
  {
   "cell_type": "code",
   "execution_count": 4,
   "metadata": {},
   "outputs": [
    {
     "data": {
      "text/plain": [
       "city             0\n",
       "district         0\n",
       "front            0\n",
       "size             0\n",
       "property_age     0\n",
       "bedrooms         0\n",
       "bathrooms        0\n",
       "livingrooms      0\n",
       "kitchen          0\n",
       "garage           0\n",
       "driver_room      0\n",
       "maid_room        0\n",
       "furnished        0\n",
       "ac               0\n",
       "roof             0\n",
       "pool             0\n",
       "frontyard        0\n",
       "basement         0\n",
       "duplex           0\n",
       "stairs           0\n",
       "elevator         0\n",
       "fireplace        0\n",
       "price            0\n",
       "details         80\n",
       "dtype: int64"
      ]
     },
     "execution_count": 4,
     "metadata": {},
     "output_type": "execute_result"
    }
   ],
   "source": [
    "df.isnull().sum()"
   ]
  },
  {
   "cell_type": "code",
   "execution_count": 5,
   "metadata": {},
   "outputs": [
    {
     "name": "stdout",
     "output_type": "stream",
     "text": [
      "<class 'pandas.core.frame.DataFrame'>\n",
      "RangeIndex: 3718 entries, 0 to 3717\n",
      "Data columns (total 24 columns):\n",
      " #   Column        Non-Null Count  Dtype \n",
      "---  ------        --------------  ----- \n",
      " 0   city          3718 non-null   object\n",
      " 1   district      3718 non-null   object\n",
      " 2   front         3718 non-null   object\n",
      " 3   size          3718 non-null   int64 \n",
      " 4   property_age  3718 non-null   int64 \n",
      " 5   bedrooms      3718 non-null   int64 \n",
      " 6   bathrooms     3718 non-null   int64 \n",
      " 7   livingrooms   3718 non-null   int64 \n",
      " 8   kitchen       3718 non-null   int64 \n",
      " 9   garage        3718 non-null   int64 \n",
      " 10  driver_room   3718 non-null   int64 \n",
      " 11  maid_room     3718 non-null   int64 \n",
      " 12  furnished     3718 non-null   int64 \n",
      " 13  ac            3718 non-null   int64 \n",
      " 14  roof          3718 non-null   int64 \n",
      " 15  pool          3718 non-null   int64 \n",
      " 16  frontyard     3718 non-null   int64 \n",
      " 17  basement      3718 non-null   int64 \n",
      " 18  duplex        3718 non-null   int64 \n",
      " 19  stairs        3718 non-null   int64 \n",
      " 20  elevator      3718 non-null   int64 \n",
      " 21  fireplace     3718 non-null   int64 \n",
      " 22  price         3718 non-null   int64 \n",
      " 23  details       3638 non-null   object\n",
      "dtypes: int64(20), object(4)\n",
      "memory usage: 697.2+ KB\n"
     ]
    }
   ],
   "source": [
    "df.info()"
   ]
  },
  {
   "cell_type": "markdown",
   "metadata": {},
   "source": [
    "# Cleaning "
   ]
  },
  {
   "cell_type": "code",
   "execution_count": 6,
   "metadata": {},
   "outputs": [],
   "source": [
    "df.dropna(inplace=True)"
   ]
  },
  {
   "cell_type": "markdown",
   "metadata": {},
   "source": [
    "# Test \n",
    "To test a json file retrieved from the web app "
   ]
  },
  {
   "cell_type": "code",
   "execution_count": 7,
   "metadata": {},
   "outputs": [],
   "source": [
    "filters = {'city': [' الخبر'], 'district': [], 'front': [], 'price': {'min': None, 'max': None}, 'size': {'min': None, 'max': None}, 'bedrooms': None, 'bathrooms': None, 'furnished': None, 'ac': None, 'roof': None, 'pool': None, 'frontyard': None, 'basement': None, 'duplex': None, 'stairs': None, 'elevator': None, 'fireplace': None}"
   ]
  },
  {
   "cell_type": "code",
   "execution_count": 8,
   "metadata": {},
   "outputs": [],
   "source": [
    "filtered_df = df.copy()"
   ]
  },
  {
   "cell_type": "markdown",
   "metadata": {},
   "source": [
    "### Apply location filters"
   ]
  },
  {
   "cell_type": "code",
   "execution_count": 9,
   "metadata": {},
   "outputs": [],
   "source": [
    "if filters.get('city'):\n",
    "    filtered_df = filtered_df[filtered_df['city'].isin(filters['city'])]\n",
    "if filters.get('district'):\n",
    "    filtered_df = filtered_df[filtered_df['district'].isin(filters['district'])]\n",
    "if filters.get('front'):\n",
    "    filtered_df = filtered_df[filtered_df['front'].isin(filters['front'])]\n"
   ]
  },
  {
   "cell_type": "code",
   "execution_count": 10,
   "metadata": {},
   "outputs": [
    {
     "data": {
      "text/html": [
       "<div>\n",
       "<style scoped>\n",
       "    .dataframe tbody tr th:only-of-type {\n",
       "        vertical-align: middle;\n",
       "    }\n",
       "\n",
       "    .dataframe tbody tr th {\n",
       "        vertical-align: top;\n",
       "    }\n",
       "\n",
       "    .dataframe thead th {\n",
       "        text-align: right;\n",
       "    }\n",
       "</style>\n",
       "<table border=\"1\" class=\"dataframe\">\n",
       "  <thead>\n",
       "    <tr style=\"text-align: right;\">\n",
       "      <th></th>\n",
       "      <th>city</th>\n",
       "      <th>district</th>\n",
       "      <th>front</th>\n",
       "      <th>size</th>\n",
       "      <th>property_age</th>\n",
       "      <th>bedrooms</th>\n",
       "      <th>bathrooms</th>\n",
       "      <th>livingrooms</th>\n",
       "      <th>kitchen</th>\n",
       "      <th>garage</th>\n",
       "      <th>...</th>\n",
       "      <th>roof</th>\n",
       "      <th>pool</th>\n",
       "      <th>frontyard</th>\n",
       "      <th>basement</th>\n",
       "      <th>duplex</th>\n",
       "      <th>stairs</th>\n",
       "      <th>elevator</th>\n",
       "      <th>fireplace</th>\n",
       "      <th>price</th>\n",
       "      <th>details</th>\n",
       "    </tr>\n",
       "  </thead>\n",
       "  <tbody>\n",
       "    <tr>\n",
       "      <th>2742</th>\n",
       "      <td>الخبر</td>\n",
       "      <td>حي العليا</td>\n",
       "      <td>شمال</td>\n",
       "      <td>325</td>\n",
       "      <td>14</td>\n",
       "      <td>4</td>\n",
       "      <td>5</td>\n",
       "      <td>2</td>\n",
       "      <td>1</td>\n",
       "      <td>0</td>\n",
       "      <td>...</td>\n",
       "      <td>0</td>\n",
       "      <td>0</td>\n",
       "      <td>1</td>\n",
       "      <td>0</td>\n",
       "      <td>1</td>\n",
       "      <td>1</td>\n",
       "      <td>0</td>\n",
       "      <td>0</td>\n",
       "      <td>65000</td>\n",
       "      <td>للإيجار دبلوكس متصل مرتب جداً باركيه ومكيفات ر...</td>\n",
       "    </tr>\n",
       "  </tbody>\n",
       "</table>\n",
       "<p>1 rows × 24 columns</p>\n",
       "</div>"
      ],
      "text/plain": [
       "        city       district front  size  property_age  bedrooms  bathrooms  \\\n",
       "2742   الخبر     حي العليا   شمال   325            14         4          5   \n",
       "\n",
       "      livingrooms  kitchen  garage  ...  roof  pool  frontyard  basement  \\\n",
       "2742            2        1       0  ...     0     0          1         0   \n",
       "\n",
       "      duplex  stairs  elevator  fireplace  price  \\\n",
       "2742       1       1         0          0  65000   \n",
       "\n",
       "                                                details  \n",
       "2742  للإيجار دبلوكس متصل مرتب جداً باركيه ومكيفات ر...  \n",
       "\n",
       "[1 rows x 24 columns]"
      ]
     },
     "execution_count": 10,
     "metadata": {},
     "output_type": "execute_result"
    }
   ],
   "source": [
    "filtered_df.head(1)"
   ]
  },
  {
   "cell_type": "markdown",
   "metadata": {},
   "source": [
    "### Apply price range filter"
   ]
  },
  {
   "cell_type": "code",
   "execution_count": 11,
   "metadata": {},
   "outputs": [],
   "source": [
    "if filters.get('price'):\n",
    "    price_min = filters['price'].get('min')\n",
    "    price_max = filters['price'].get('max')\n",
    "    if price_min is not None and price_min != '':\n",
    "        filtered_df = filtered_df[filtered_df['price'] >= float(price_min)]\n",
    "    if price_max is not None and price_max != '':\n",
    "        filtered_df = filtered_df[filtered_df['price'] <= float(price_max)]"
   ]
  },
  {
   "cell_type": "code",
   "execution_count": 12,
   "metadata": {},
   "outputs": [
    {
     "data": {
      "text/html": [
       "<div>\n",
       "<style scoped>\n",
       "    .dataframe tbody tr th:only-of-type {\n",
       "        vertical-align: middle;\n",
       "    }\n",
       "\n",
       "    .dataframe tbody tr th {\n",
       "        vertical-align: top;\n",
       "    }\n",
       "\n",
       "    .dataframe thead th {\n",
       "        text-align: right;\n",
       "    }\n",
       "</style>\n",
       "<table border=\"1\" class=\"dataframe\">\n",
       "  <thead>\n",
       "    <tr style=\"text-align: right;\">\n",
       "      <th></th>\n",
       "      <th>city</th>\n",
       "      <th>district</th>\n",
       "      <th>front</th>\n",
       "      <th>size</th>\n",
       "      <th>property_age</th>\n",
       "      <th>bedrooms</th>\n",
       "      <th>bathrooms</th>\n",
       "      <th>livingrooms</th>\n",
       "      <th>kitchen</th>\n",
       "      <th>garage</th>\n",
       "      <th>...</th>\n",
       "      <th>roof</th>\n",
       "      <th>pool</th>\n",
       "      <th>frontyard</th>\n",
       "      <th>basement</th>\n",
       "      <th>duplex</th>\n",
       "      <th>stairs</th>\n",
       "      <th>elevator</th>\n",
       "      <th>fireplace</th>\n",
       "      <th>price</th>\n",
       "      <th>details</th>\n",
       "    </tr>\n",
       "  </thead>\n",
       "  <tbody>\n",
       "    <tr>\n",
       "      <th>2742</th>\n",
       "      <td>الخبر</td>\n",
       "      <td>حي العليا</td>\n",
       "      <td>شمال</td>\n",
       "      <td>325</td>\n",
       "      <td>14</td>\n",
       "      <td>4</td>\n",
       "      <td>5</td>\n",
       "      <td>2</td>\n",
       "      <td>1</td>\n",
       "      <td>0</td>\n",
       "      <td>...</td>\n",
       "      <td>0</td>\n",
       "      <td>0</td>\n",
       "      <td>1</td>\n",
       "      <td>0</td>\n",
       "      <td>1</td>\n",
       "      <td>1</td>\n",
       "      <td>0</td>\n",
       "      <td>0</td>\n",
       "      <td>65000</td>\n",
       "      <td>للإيجار دبلوكس متصل مرتب جداً باركيه ومكيفات ر...</td>\n",
       "    </tr>\n",
       "  </tbody>\n",
       "</table>\n",
       "<p>1 rows × 24 columns</p>\n",
       "</div>"
      ],
      "text/plain": [
       "        city       district front  size  property_age  bedrooms  bathrooms  \\\n",
       "2742   الخبر     حي العليا   شمال   325            14         4          5   \n",
       "\n",
       "      livingrooms  kitchen  garage  ...  roof  pool  frontyard  basement  \\\n",
       "2742            2        1       0  ...     0     0          1         0   \n",
       "\n",
       "      duplex  stairs  elevator  fireplace  price  \\\n",
       "2742       1       1         0          0  65000   \n",
       "\n",
       "                                                details  \n",
       "2742  للإيجار دبلوكس متصل مرتب جداً باركيه ومكيفات ر...  \n",
       "\n",
       "[1 rows x 24 columns]"
      ]
     },
     "execution_count": 12,
     "metadata": {},
     "output_type": "execute_result"
    }
   ],
   "source": [
    "filtered_df.head(1)"
   ]
  },
  {
   "cell_type": "markdown",
   "metadata": {},
   "source": [
    "### Filtering 'size', 'bedrooms', 'bathrooms' and 'livingrooms'"
   ]
  },
  {
   "cell_type": "code",
   "execution_count": 13,
   "metadata": {},
   "outputs": [],
   "source": [
    "for field in ['size', 'bedrooms', 'bathrooms', 'livingrooms']:\n",
    "    if filters.get(field) is not None:\n",
    "        if isinstance(filters[field], dict):\n",
    "            if 'min' in filters[field] and filters[field]['min'] is not None and filters[field]['min'] != '':\n",
    "                try:\n",
    "                    min_val = int(filters[field]['min'])\n",
    "                    filtered_df = filtered_df[filtered_df[field] >= min_val]\n",
    "                except ValueError:\n",
    "                    pass\n",
    "            if 'max' in filters[field] and filters[field]['max'] is not None and filters[field]['max'] != '':\n",
    "                try:\n",
    "                    max_val = int(filters[field]['max'])\n",
    "                    filtered_df = filtered_df[filtered_df[field] <= max_val]\n",
    "                except ValueError:\n",
    "                    pass\n",
    "        else:\n",
    "            # Handle single value\n",
    "            if filters[field] is not None and filters[field] != '':\n",
    "                try:\n",
    "                    value = int(filters[field])\n",
    "                    filtered_df = filtered_df[filtered_df[field] >= value]\n",
    "                except ValueError:\n",
    "                    pass"
   ]
  },
  {
   "cell_type": "markdown",
   "metadata": {},
   "source": [
    "### Apply boolean filters and sort the data"
   ]
  },
  {
   "cell_type": "code",
   "execution_count": 14,
   "metadata": {},
   "outputs": [],
   "source": [
    "for col in ['furnished', 'ac', 'roof', 'pool', 'frontyard', 'basement', \n",
    "            'duplex', 'stairs', 'elevator', 'fireplace']:\n",
    "    if filters.get(col) is not None:\n",
    "        filtered_df = filtered_df[filtered_df[col] == True] if filters[col] else filtered_df[filtered_df[col] == False]\n",
    "\n",
    "filtered_df = filtered_df.sort_values('price')"
   ]
  },
  {
   "cell_type": "markdown",
   "metadata": {},
   "source": [
    "### It works"
   ]
  },
  {
   "cell_type": "code",
   "execution_count": 15,
   "metadata": {},
   "outputs": [
    {
     "data": {
      "text/html": [
       "<div>\n",
       "<style scoped>\n",
       "    .dataframe tbody tr th:only-of-type {\n",
       "        vertical-align: middle;\n",
       "    }\n",
       "\n",
       "    .dataframe tbody tr th {\n",
       "        vertical-align: top;\n",
       "    }\n",
       "\n",
       "    .dataframe thead th {\n",
       "        text-align: right;\n",
       "    }\n",
       "</style>\n",
       "<table border=\"1\" class=\"dataframe\">\n",
       "  <thead>\n",
       "    <tr style=\"text-align: right;\">\n",
       "      <th></th>\n",
       "      <th>city</th>\n",
       "      <th>district</th>\n",
       "      <th>front</th>\n",
       "      <th>size</th>\n",
       "      <th>property_age</th>\n",
       "      <th>bedrooms</th>\n",
       "      <th>bathrooms</th>\n",
       "      <th>livingrooms</th>\n",
       "      <th>kitchen</th>\n",
       "      <th>garage</th>\n",
       "      <th>...</th>\n",
       "      <th>roof</th>\n",
       "      <th>pool</th>\n",
       "      <th>frontyard</th>\n",
       "      <th>basement</th>\n",
       "      <th>duplex</th>\n",
       "      <th>stairs</th>\n",
       "      <th>elevator</th>\n",
       "      <th>fireplace</th>\n",
       "      <th>price</th>\n",
       "      <th>details</th>\n",
       "    </tr>\n",
       "  </thead>\n",
       "  <tbody>\n",
       "    <tr>\n",
       "      <th>2770</th>\n",
       "      <td>الخبر</td>\n",
       "      <td>حي السفن</td>\n",
       "      <td>شمال</td>\n",
       "      <td>525</td>\n",
       "      <td>21</td>\n",
       "      <td>4</td>\n",
       "      <td>2</td>\n",
       "      <td>1</td>\n",
       "      <td>1</td>\n",
       "      <td>0</td>\n",
       "      <td>...</td>\n",
       "      <td>0</td>\n",
       "      <td>0</td>\n",
       "      <td>1</td>\n",
       "      <td>0</td>\n",
       "      <td>0</td>\n",
       "      <td>0</td>\n",
       "      <td>0</td>\n",
       "      <td>0</td>\n",
       "      <td>30000</td>\n",
       "      <td>لكم فله راح عندي لكم فله تمام جديده اربع غرف و...</td>\n",
       "    </tr>\n",
       "  </tbody>\n",
       "</table>\n",
       "<p>1 rows × 24 columns</p>\n",
       "</div>"
      ],
      "text/plain": [
       "        city      district front  size  property_age  bedrooms  bathrooms  \\\n",
       "2770   الخبر     حي السفن   شمال   525            21         4          2   \n",
       "\n",
       "      livingrooms  kitchen  garage  ...  roof  pool  frontyard  basement  \\\n",
       "2770            1        1       0  ...     0     0          1         0   \n",
       "\n",
       "      duplex  stairs  elevator  fireplace  price  \\\n",
       "2770       0       0         0          0  30000   \n",
       "\n",
       "                                                details  \n",
       "2770  لكم فله راح عندي لكم فله تمام جديده اربع غرف و...  \n",
       "\n",
       "[1 rows x 24 columns]"
      ]
     },
     "execution_count": 15,
     "metadata": {},
     "output_type": "execute_result"
    }
   ],
   "source": [
    "filtered_df.head(1)"
   ]
  }
 ],
 "metadata": {
  "kernelspec": {
   "display_name": "Python 3",
   "language": "python",
   "name": "python3"
  },
  "language_info": {
   "codemirror_mode": {
    "name": "ipython",
    "version": 3
   },
   "file_extension": ".py",
   "mimetype": "text/x-python",
   "name": "python",
   "nbconvert_exporter": "python",
   "pygments_lexer": "ipython3",
   "version": "3.10.12"
  }
 },
 "nbformat": 4,
 "nbformat_minor": 2
}
